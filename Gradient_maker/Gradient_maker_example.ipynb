{
 "cells": [
  {
   "cell_type": "markdown",
   "metadata": {},
   "source": [
    "### Import module"
   ]
  },
  {
   "cell_type": "code",
   "execution_count": 1,
   "metadata": {},
   "outputs": [],
   "source": [
    "import sys\n",
    "import numpy as np\n",
    "import matplotlib.pyplot as plt\n",
    "\n",
    "import gradient_maker as gm\n",
    "#from gradient_maker import gm.grad_brite"
   ]
  },
  {
   "cell_type": "markdown",
   "metadata": {},
   "source": [
    "### The code cells below demonstrate how routines in the `gradient_maker` module work."
   ]
  },
  {
   "cell_type": "code",
   "execution_count": 4,
   "metadata": {},
   "outputs": [
    {
     "name": "stdout",
     "output_type": "stream",
     "text": [
      "rgb_to_hex: #ffcc33 #ffcc33 #ffcc33\n",
      "hex_to_rgb: (229, 196, 179) (229, 196, 179) (229, 196, 179)\n",
      "rgb_to_dec: [0.11764705882352941, 0.3843137254901961, 0.2196078431372549] [0.11764705882352941, 0.3843137254901961, 0.2196078431372549]\n",
      "dec_to_rgb: [64, 128, 255] [85, 191, 223]\n"
     ]
    }
   ],
   "source": [
    "# Besides `grad_brite`, there are several auxiliary routines included:\n",
    "\n",
    "# `rgb_to_hex` converts a list or tuple of R, G & B values (0-255 scale) to a hexadecimal value, dropping any alpha values.\n",
    "x1 = gm.rgb_to_hex([255,204,51])\n",
    "x2 = gm.rgb_to_hex((255,204,51))\n",
    "x3 = gm.rgb_to_hex(np.array([255,204,51,50]))\n",
    "print(\"rgb_to_hex:\",x1,x2,x3)\n",
    "\n",
    "# `hex_to_rgb` converts a hexadecimal RRGGBB value to a tuple of integers (0-255 scale), dropping any alpha values.\n",
    "i1 = gm.hex_to_rgb(\"#e5c4b3\")\n",
    "i2 = gm.hex_to_rgb(\"E5C4B3\")\n",
    "i3 = gm.hex_to_rgb(\"#E5C4B3FF\")\n",
    "print(\"hex_to_rgb:\",i1,i2,i3)\n",
    "\n",
    "# `rgb_to_dec` converts a list or tuple of R, G & B values from the 0-255 scale to a floating point list on a 0-1 scale, dropping any alpha values.\n",
    "d1 = gm.rgb_to_dec([30,98,56])\n",
    "d2 = gm.rgb_to_dec([30,98,56,100])\n",
    "print(\"rgb_to_dec:\",d1,d2)\n",
    "\n",
    "# `dec_to_rgb` converts a list or tuple of R, G & B values from floating point (0-1) scale to a list on a 0-255 scale, dropping any alpha values.\n",
    "r1 = gm.dec_to_rgb([0.25,0.5,1])\n",
    "r2 = gm.dec_to_rgb((0.3333,0.75,0.875,1.0))\n",
    "print(\"dec_to_rgb:\",r1,r2)"
   ]
  },
  {
   "cell_type": "code",
   "execution_count": 43,
   "metadata": {},
   "outputs": [
    {
     "data": {
      "text/plain": [
       "[None, None, None, None, None, None, None]"
      ]
     },
     "execution_count": 43,
     "metadata": {},
     "output_type": "execute_result"
    },
    {
     "data": {
      "image/png": "[encoded data removed]",
      "text/plain": [
       "<Figure size 1152x540 with 7 Axes>"
      ]
     },
     "metadata": {},
     "output_type": "display_data"
    }
   ],
   "source": [
    "# `grad_brite` itself can take as input any number of colors in hexadecimal format as input:\n",
    "hex_in = [\"#FF0000\",\"#FF8800\",\"#FFFF00\",\"#00FF00\",\"#00FFFF\",\"#4040FF\",\"#FF00FF\"]\n",
    "\n",
    "#############################################################################################\n",
    "c_discrete = gm.grad_brite(hex_in,ncol=7,lite_0=0.75,lite_1=0.75)\n",
    "c_smooth = gm.grad_brite(hex_in,lite_0=0.75,lite_1=0.75)\n",
    "c_expanded = gm.grad_brite(hex_in,pcol=[0,0.25,0.45,0.5,0.55,0.75,1],lite_0=0.75,lite_1=0.75)\n",
    "c_dark2light = gm.grad_brite(hex_in,lite_0=0.1,lite_1=1.0)\n",
    "c_light2dark = gm.grad_brite(hex_in,lite_0=1.0,lite_1=0.1)\n",
    "c_yellow_peak = gm.grad_brite(hex_in,lite_0=0.5,lite_1=0.3,mid_lite=1.0,mid_spot=0.333)\n",
    "c_blue_dark = gm.grad_brite(hex_in,lite_0=0.95,lite_1=0.5,mid_lite=0.2,mid_spot=0.833)\n",
    "#############################################################################################\n",
    "\n",
    "z = [np.linspace(0,1,256)]*10\n",
    "fig, ax = plt.subplots(7,1,figsize=(16,7.5))\n",
    "ax.flatten()\n",
    "plt.subplots_adjust(wspace=0.0,hspace=0.04,left=0.02, right=0.98, bottom=0.01, top=0.92)\n",
    "fig.suptitle(\"Seven simple colors\",fontweight=\"bold\",fontsize=17)\n",
    "\n",
    "ax[0].imshow(z, cmap=c_discrete)\n",
    "ax[1].imshow(z, cmap=c_smooth)\n",
    "ax[2].imshow(z, cmap=c_expanded)\n",
    "ax[3].imshow(z, cmap=c_dark2light)\n",
    "ax[4].imshow(z, cmap=c_light2dark)\n",
    "ax[5].imshow(z, cmap=c_yellow_peak)\n",
    "ax[6].imshow(z, cmap=c_blue_dark)\n",
    "\n",
    "ax[0].set_title(\"Discrete colors, similar luminence\")\n",
    "ax[1].set_title(\"Continuous colors, similar luminence\")\n",
    "ax[2].set_title(\"Expanded range in red and purple, squashed green\")\n",
    "ax[3].set_title(\"Dark to light\")\n",
    "ax[4].set_title(\"Light to dark\")\n",
    "ax[5].set_title(\"Peak brightness at yellow\")\n",
    "ax[6].set_title(\"Darkest at blue\")\n",
    "\n",
    "[ax[i].yaxis.set_major_locator(plt.NullLocator()) for i in range(7)] # remove y axis ticks\n",
    "[ax[i].xaxis.set_major_locator(plt.NullLocator()) for i in range(7)] # remove x axis ticks\n"
   ]
  },
  {
   "cell_type": "markdown",
   "metadata": {},
   "source": [
    "### The code cells below demonstrate application of `grad_brite` to generate various color maps."
   ]
  },
  {
   "cell_type": "code",
   "execution_count": 44,
   "metadata": {},
   "outputs": [],
   "source": [
    "#############################################################################################\n",
    "### Various scales from GrADS...\n",
    "\n",
    "# The classic rainbow color scale from GrADS (http://cola.gmu.edu/grads/gadoc/colorcontrol.html)\n",
    "d_grads = [[160,0,200],[130,0,220],[30,60,255],[0,160,255],[0,200,200],[0,210,140],[0,220,0],[160,230,50],[230,220,50],[230,175,45],[240,130,40],[250,60,60],[240,0,130]]\n",
    "# Slight adjustment to brightness gradient, keeps 13 discrete colors\n",
    "lite_0=0.25; lite_1=0.30\n",
    "mid_lite = 0.88; mid_spot=0.65 \n",
    "hexes = [gm.rgb_to_hex(d_grads[i]) for i in range(len(d_grads))]\n",
    "ncol = 13\n",
    "c_grads = gm.grad_brite(hexes,lite_0=lite_0,lite_1=lite_1,mid_lite=mid_lite,mid_spot=mid_spot,ncol=ncol)\n",
    "\n",
    "#     Rainbow color scale from GrADS rendered as a continuous scale\n",
    "lite_0=0.25; lite_1=0.30     \n",
    "mid_lite = 0.88; mid_spot=0.65  \n",
    "hexes = [gm.rgb_to_hex(d_grads[i]) for i in range(len(d_grads))]\n",
    "ncol = 256\n",
    "c_cgrads = gm.grad_brite(hexes,lite_0=lite_0,lite_1=lite_1,mid_lite=mid_lite,mid_spot=mid_spot,ncol=ncol)\n",
    "\n",
    "#     Blue-white-red color scale from GrADS (http://cola.gmu.edu/grads/gadoc/colorcontrol.html) as a continuous scale\n",
    "d_grads = [[0,0,255],[220,220,255],[255,255,255],[255,220,220],[255,0,0]]\n",
    "p_grads = [0.0, 0.41, 0.50, 0.59, 1.0] \n",
    "lite_0=0.11; lite_1=0.30    \n",
    "mid_lite = 1.00; mid_spot=0.50 \n",
    "hexes = [gm.rgb_to_hex(d_grads[i]) for i in range(len(d_grads))]\n",
    "ncol = 256\n",
    "c_bwrgrads = gm.grad_brite(hexes,pcol=p_grads,lite_0=lite_0,lite_1=lite_1,mid_lite=mid_lite,mid_spot=mid_spot,ncol=ncol)\n",
    "\n",
    "#     GrADS blue-white-red color scale with brightnesses reversed (i.e., blue deep-violet red)\n",
    "d_grads = [[200,200,255],[20,20,192],[96,0,128],[255,0,0],[255,200,200]]\n",
    "p_grads = [0.0, 0.45, 0.50, 0.55, 1.0] \n",
    "lite_0=0.90; lite_1=0.90             \n",
    "mid_lite = 0.10; mid_spot=0.50 \n",
    "ncol = 256\n",
    "c_bkr = gm.grad_brite([gm.rgb_to_hex(d_grads[i]) for i in range(len(d_grads))],pcol=p_grads,lite_0=lite_0,lite_1=lite_1,mid_lite=mid_lite,mid_spot=mid_spot,ncol=ncol)\n",
    "\n",
    "\n",
    "#############################################################################################\n",
    "### Various monotonic scales...\n",
    "\n",
    "# Monotonic scale light to dark, bluish to greenish, a bit icy \n",
    "x_icy = ['#FFF7FB', '#D1D2E6', '#56A9CD', '#007E89', '#00695A'] \n",
    "p_icy = [0.0, 0.25, 0.50, 0.75, 1.0] \n",
    "lite_0=0.99; lite_1=0.10   \n",
    "mid_lite = 0.6; mid_spot=0.5   \n",
    "ncol = 256\n",
    "c_icy = gm.grad_brite(x_icy,pcol=p_icy,lite_0=lite_0,lite_1=lite_1,mid_lite=mid_lite,mid_spot=mid_spot,ncol=ncol)\n",
    "\n",
    "# Monotonic scale light to dark, aqua to purple-blue\n",
    "x_beachy = ['#50635A', '#8188F6', '#FF87BB'] \n",
    "p_beachy = [0.0, 0.70, 1.0]  \n",
    "lite_0=0.99; lite_1=0.10  \n",
    "mid_lite = 0.5; mid_spot=0.5  \n",
    "ncol = 256\n",
    "c_beachy = gm.grad_brite(x_beachy,pcol=p_beachy,lite_0=lite_0,lite_1=lite_1,mid_lite=mid_lite,mid_spot=mid_spot,ncol=ncol)\n",
    "\n",
    "# Monotonic scale light to dark, reddish scale \n",
    "x_toasty = ['#FFF6C0', '#ef3018', '#6C2610']\n",
    "p_toasty = [0.0, 0.50, 1.0] \n",
    "lite_0=0.99; lite_1=0.10    \n",
    "mid_lite = 0.5; mid_spot=0.5  \n",
    "ncol = 256\n",
    "c_toasty = gm.grad_brite(x_toasty,pcol=p_toasty,lite_0=lite_0,lite_1=lite_1,mid_lite=mid_lite,mid_spot=mid_spot,ncol=ncol)\n",
    "\n",
    "# Monotonic scale light to dark, rather like skin tones\n",
    "x_fleshy = ['#ffd8e0','#f48a6f','#704401'] \n",
    "p_fleshy = [0.0, 0.50, 1.0]  \n",
    "lite_0=0.99; lite_1=0.10  \n",
    "mid_lite = 0.5; mid_spot=0.5  \n",
    "ncol = 256\n",
    "c_fleshy = gm.grad_brite(x_fleshy,pcol=p_fleshy,lite_0=lite_0,lite_1=lite_1,mid_lite=mid_lite,mid_spot=mid_spot,ncol=ncol)\n",
    "\n",
    "# Monotonic scale light to dark, like an avocado\n",
    "x_guacky = ['#ffffac','#538e14','#1a3f11','#54402a'] \n",
    "p_guacky = [0.0, 0.35, 0.70, 1.0]    \n",
    "lite_0=0.99; lite_1=0.20    \n",
    "mid_lite = 0.5; mid_spot=0.5 \n",
    "ncol = 256\n",
    "c_guacky = gm.grad_brite(x_guacky,pcol=p_guacky,lite_0=lite_0,lite_1=lite_1,mid_lite=mid_lite,mid_spot=mid_spot,ncol=ncol)\n",
    "\n",
    "# Monotonic scale light to dark, like vegetation gradients seen from space\n",
    "x_leafy = ['#E7DFD4', '#CEBBA9', '#61BE68', '#3C653F'] \n",
    "p_leafy = [0.0, 0.3, 0.55, 1.0] \n",
    "lite_0=0.97; lite_1=0.15   \n",
    "mid_lite = 0.55; mid_spot=0.5 \n",
    "ncol = 256\n",
    "c_leafy = gm.grad_brite(x_leafy,pcol=p_leafy,lite_0=lite_0,lite_1=lite_1,mid_lite=mid_lite,mid_spot=mid_spot,ncol=ncol)\n",
    "\n",
    "# Monotonic scale light to dark, oranges and browns\n",
    "x_woody = ['#fafad6','#b3642f','#87502E','#4a002c']\n",
    "p_woody = [0.0, 0.2, 0.7, 1.0]   \n",
    "lite_0=0.97; lite_1=0.10   \n",
    "mid_lite = 0.55; mid_spot=0.5 \n",
    "ncol = 256\n",
    "c_woody = gm.grad_brite(x_woody,pcol=p_woody,lite_0=lite_0,lite_1=lite_1,mid_lite=mid_lite,mid_spot=mid_spot,ncol=ncol)\n",
    "\n",
    "# Monotonic scale light to dark, sunset to twilight\n",
    "x_dusky = ['#ffe5cb','#d997ba','#7c5089','#0d0026'] \n",
    "p_dusky = [0.0, 0.2, 0.5, 1.0]  \n",
    "lite_0=0.97; lite_1=0.10   \n",
    "mid_lite = 0.55; mid_spot=0.5  \n",
    "ncol = 256\n",
    "c_dusky = gm.grad_brite(x_dusky,pcol=p_dusky,lite_0=lite_0,lite_1=lite_1,mid_lite=mid_lite,mid_spot=mid_spot,ncol=ncol)\n",
    "\n",
    "# Color scale based on Guo et al. (2006; https://doi.org/10.1175/JHM511.1)\n",
    "# Linear scale - GLACE coupling metric; slightly greenish start, then yellow-orange-brown\n",
    "x_glace = ['#FFFFFF', '#D9DD76', '#E8CC3E', '#D5883A', '#C1462E', '#8A3729'] \n",
    "p_glace = [0.0, 0.12, 0.25, 0.625, 0.875, 1.0] \n",
    "lite_0=1.00; lite_1=0.30     \n",
    "mid_lite = 0.25; mid_spot=0.9 \n",
    "ncol = 256\n",
    "c_glace = gm.grad_brite(x_glace,pcol=p_glace,lite_0=lite_0,lite_1=lite_1,ncol=ncol)\n",
    "\n",
    "#############################################################################################\n",
    "### Various divergent scales...\n",
    "\n",
    "# Color scale based on Koster et al. (2010; https://doi.org/10.1029/2009GL041677)\n",
    "# Randy's IDL color scheme for forecast skill\n",
    "x_koster = ['#0336CE', '#74FBFD', '#e6e6e6', '#e6e6e6','#F7F952', '#C1281B'] \n",
    "p_koster = [0.0, 0.45, 0.451, 0.549, 0.55, 1.0]  \n",
    "lite_0=0.22; lite_1=0.22    \n",
    "mid_lite = 0.96; mid_spot=0.5  \n",
    "ncol = 256\n",
    "c_koster = gm.grad_brite(x_koster,pcol=p_koster,lite_0=lite_0,lite_1=lite_1,mid_lite=mid_lite,mid_spot=mid_spot,ncol=ncol)\n",
    "\n",
    "# Color scale based on Dirmeyer et al. (2013; https://doi.org/10.1175/JHM-D-12-0107.1)\n",
    "# Divergent scale, used to indicate degree of CMIP model consensus in the sign of climate changes\n",
    "x_cmip = ['#00153F', '#435FA5', '#E0E0EC', '#D0D3D3', '#F6E1DF', '#DA483D', '#8A2A2B'] \n",
    "p_cmip = [0.0, 0.12, 0.49, 0.50, 0.51, 0.88, 1.0]  \n",
    "lite_0=0.10; lite_1=0.15     \n",
    "mid_lite = 0.94; mid_spot=0.50  \n",
    "ncol = 256\n",
    "c_cmip = gm.grad_brite(x_cmip,pcol=p_cmip,lite_0=lite_0,lite_1=lite_1,mid_lite=mid_lite,mid_spot=mid_spot,ncol=ncol)\n",
    "\n",
    "# Color scales from Badger & Dirmeyer (2015; https://doi.org/10.5194/hess-19-4547-2015)\n",
    "#     Simple divergent redish-bluish color scale, light in the middle\n",
    "x_badger = ['#993404', '#FEE391', '#D0D1E6', '#045A8D']\n",
    "p_badger = [0.0, 0.496, 0.504, 1.0]  \n",
    "lite_0=0.30; lite_1=0.30    \n",
    "mid_lite = 0.95; mid_spot=0.5 \n",
    "ncol = 256\n",
    "c_badger = gm.grad_brite(x_badger,pcol=p_badger,lite_0=lite_0,lite_1=lite_1,mid_lite=mid_lite,mid_spot=mid_spot,ncol=ncol)\n",
    "#     Simple divergent greenish-bluish color scale, NOT GOOD FOR TRITANOPIA\n",
    "x_badger = ['#00441B', '#CCECE6', '#D0D1E6', '#045A8D'] \n",
    "p_badger = [0.0, 0.496, 0.504, 1.0] \n",
    "lite_0=0.30; lite_1=0.30    \n",
    "mid_lite = 0.95; mid_spot=0.5   \n",
    "ncol = 256\n",
    "c_badger2 = gm.grad_brite(x_badger,pcol=p_badger,lite_0=lite_0,lite_1=lite_1,mid_lite=mid_lite,mid_spot=mid_spot,ncol=ncol)\n",
    "#     Simple divergent redish-greenish color scale, NOT GOOD FOR PROTANOPIA, DEUTERANOPIA\n",
    "x_badger = ['#993404', '#FEE391', '#CCECE6', '#00441B']\n",
    "p_badger = [0.0, 0.496, 0.504, 1.0] \n",
    "lite_0=0.30; lite_1=0.30   \n",
    "mid_lite = 0.95; mid_spot=0.5  \n",
    "ncol = 256\n",
    "c_badger3 = gm.grad_brite(x_badger,pcol=p_badger,lite_0=lite_0,lite_1=lite_1,mid_lite=mid_lite,mid_spot=mid_spot,ncol=ncol)\n",
    "\n",
    "# Color scale based on Dirmeyer (2013; https://doi.org/10.1007/s00382-013-1866-x)\n",
    "# Divergent scale for hydrologic applications (e.g., soil moisture, dry to normal to wet)\n",
    "x_hydro = ['#582510', '#EBCC90', '#FDF3C3', '#DDFCD2', '#7CB8A0', '#1E3B58'] \n",
    "p_hydro = [0.0, 0.25, 0.42, 0.58, 0.75, 1.0] \n",
    "lite_0=0.20; lite_1=0.20    \n",
    "mid_lite = 1.0; mid_spot=0.5 \n",
    "ncol = 256\n",
    "c_hydro = gm.grad_brite(x_hydro,pcol=p_hydro,lite_0=lite_0,lite_1=lite_1,mid_lite=mid_lite,mid_spot=mid_spot,ncol=ncol)\n",
    "\n",
    "# Color scale based on Dirmeyer et al. (2013; https://doi.org/10.1175/JCLI-D-13-00029.1)\n",
    "# Divergent scale, greenish middle, ends tail into other colors\n",
    "x_isi = ['#642B80', '#372D81', '#B1CDEA', '#ECfCEC', '#F3EA85', '#D44435', '#882018'] \n",
    "p_isi = [0.0, 0.12, 0.46, 0.50, 0.54, 0.88, 1.0]   \n",
    "lite_0=0.25; lite_1=0.25     \n",
    "mid_lite = 0.99; mid_spot=0.50   \n",
    "ncol = 256\n",
    "c_isi = gm.grad_brite(x_isi,pcol=p_isi,lite_0=lite_0,lite_1=lite_1,mid_lite=mid_lite,mid_spot=mid_spot,ncol=ncol)\n",
    "\n",
    "# Color scale based on Dirmeyer & Kinter (2010; https://doi.org/0.1175/2010JHM1196.1)\n",
    "# Divergent scale, dry normal wet, water vapor transport anomalies\n",
    "x_maya = ['#8B241C', '#756650', '#CDC5B5', '#BBc9cE', '#31569F', '#893C8C'] \n",
    "p_maya = [0.0, 0.08, 0.42, 0.58, 0.90, 1.0]    \n",
    "lite_0=0.25; lite_1=0.25       \n",
    "mid_lite = 0.97; mid_spot=0.5  \n",
    "ncol = 256\n",
    "c_maya = gm.grad_brite(x_maya,pcol=p_maya,lite_0=lite_0,lite_1=lite_1,mid_lite=mid_lite,mid_spot=mid_spot,ncol=ncol)\n",
    "\n",
    "# Color scale based on Dirmeyer et al. (2011; https://doi.org/10.1007/s00382-011-1127-9)\n",
    "# Divergent scale, very similar to DEUTERANOPIA vision\n",
    "x_athena = ['#6F4E19', '#6F4E19', '#DDDDDD', '#ABAFF6', '#3940AD', '#382074'] \n",
    "p_athena = [0.0, 0.48, 0.52, 0.61, 0.89, 1.0]  \n",
    "lite_0=0.25; lite_1=0.25     \n",
    "mid_lite = 0.99; mid_spot=0.50  \n",
    "ncol = 256\n",
    "c_athena = gm.grad_brite(x_athena,pcol=p_athena,lite_0=lite_0,lite_1=lite_1,mid_lite=mid_lite,mid_spot=mid_spot,ncol=ncol)\n",
    "\n",
    "# Color scale based on Kumar et al. (2013; https://doi.org/10.1175/JCLI-D-12-00535.1)\n",
    "# Sanjiv was very fond of the purple to pomogranate scale\n",
    "x_kumar = ['#512C7A', '#D7C6DD', '#FAF2CA', '#F4B14F', '#dB4C3C'] \n",
    "p_kumar = [0.0, 0.499, 0.501, 0.80, 1.0]    \n",
    "lite_0=0.24; lite_1=0.48     \n",
    "mid_lite = 0.96; mid_spot=0.5  \n",
    "ncol = 256\n",
    "c_kumar = gm.grad_brite(x_kumar,pcol=p_kumar,lite_0=lite_0,lite_1=lite_1,mid_lite=mid_lite,mid_spot=mid_spot,ncol=ncol)\n",
    "\n",
    "#############################################################################################\n",
    "### Various tailed scales...\n",
    "\n",
    "# Color scale for water vapor back trajectory sources\n",
    "# From Dirmeyer & Brubaker (2007; https://doi.org/10.1175/JHM557.1)\n",
    "#     Light to dark, with a small lighter tail on the very high end\n",
    "x_brubaker = ['#F7F8D6', '#ACD1BD', '#52ACC6', '#2F4C9C', '#7E4F9B', '#A67BB0'] # Original color sequence (hex)\n",
    "p_brubaker = [0.0, 0.25, 0.50, 0.75, 0.875, 1.0]   \n",
    "lite_0=0.96; lite_1=0.7   \n",
    "mid_lite = 0.2; mid_spot=0.9 \n",
    "ncol = 256\n",
    "c_brubaker = gm.grad_brite(x_brubaker,pcol=p_brubaker,lite_0=lite_0,lite_1=lite_1,mid_lite=mid_lite,mid_spot=mid_spot,ncol=ncol)\n",
    "\n",
    "# Color scale based on Dirmeyer et al. (2018; https://doi.org/10.1029/2018JD029103)\n",
    "# Linear scale - harvested predictability - like Brubaker, light tail\n",
    "x_halder = ['#E6E6E6', '#F3F692', '#5FCDAC', '#3460B4', '#704387', '#B4264A']\n",
    "p_halder = [0.0, 0.12, 0.60, 0.82, 0.93, 1.0]    \n",
    "lite_0=0.98; lite_1=0.45  \n",
    "mid_lite = 0.25; mid_spot=0.9  \n",
    "ncol = 256\n",
    "c_halder = gm.grad_brite(x_halder,pcol=p_halder,lite_0=lite_0,lite_1=lite_1,mid_lite=mid_lite,mid_spot=mid_spot,ncol=ncol)\n",
    "\n",
    "# Color scale based on many papers of two-legged land-atmosphere coupling metrics \n",
    "# Green-yellow-red for feedback coupling, blues to purples for negative values (no feedbacks)\n",
    "x_loco = ['#523C7D', '#434C88', '#50B5DC', '#CAE1D6', '#E5DD5D', '#E7AE52', '#CC5042', '#85243D'] \n",
    "p_loco = [0.0, 0.05, 0.20, 0.30, 0.35, 0.55, 0.75, 1.0]  \n",
    "lite_0=0.40; lite_1=0.20   \n",
    "mid_lite = 0.96; mid_spot=0.3  \n",
    "ncol = 256\n",
    "c_loco = gm.grad_brite(x_loco,pcol=p_loco,lite_0=lite_0,lite_1=lite_1,mid_lite=mid_lite,mid_spot=mid_spot,ncol=ncol)"
   ]
  },
  {
   "cell_type": "code",
   "execution_count": 45,
   "metadata": {},
   "outputs": [
    {
     "data": {
      "image/png": "[encoded data removed]",
      "text/plain": [
       "<Figure size 720x360 with 9 Axes>"
      ]
     },
     "metadata": {
      "needs_background": "light"
     },
     "output_type": "display_data"
    }
   ],
   "source": [
    "# Make an image to display sequential examples\n",
    "zx = 256; zy = 14\n",
    "z = [np.linspace(0,1,zx)] * zy\n",
    "\n",
    "# Sequential\n",
    "bands = ['c_icy','c_beachy','c_toasty','c_fleshy','c_guacky','c_leafy','c_woody','c_dusky','c_glace']\n",
    "\n",
    "fig, axs = plt.subplots(len(bands),1,figsize=(10,(len(bands)+1)*0.5))\n",
    "plt.subplots_adjust(wspace=0.0,hspace=0.0,left=0.02, right=0.8, bottom=0.02, top=0.92)\n",
    "fig.suptitle(\"Sequential...\",fontweight=\"bold\",fontsize=17)\n",
    "c_n = 16\n",
    "c_rot = -0.5\n",
    "for b in range(len(bands)):\n",
    "    axs[b].imshow(z,cmap=eval(bands[b]))\n",
    "    axs[b].text(zx*1.02,zy/2.0,bands[b],ha='left',va='center',fontsize=16)\n",
    "    axs[b].axis('off')\n",
    "#fig.savefig(\"ggb_sequential.jpg\",dpi=72) "
   ]
  },
  {
   "cell_type": "code",
   "execution_count": 47,
   "metadata": {},
   "outputs": [
    {
     "data": {
      "image/png": "[encoded data removed]",
      "text/plain": [
       "<Figure size 720x435.6 with 11 Axes>"
      ]
     },
     "metadata": {
      "needs_background": "light"
     },
     "output_type": "display_data"
    }
   ],
   "source": [
    "# Make an image to display diverging examples\n",
    "zx = 256; zy = 14\n",
    "z = [np.linspace(0,1,zx)] * zy\n",
    "\n",
    "# Divergent\n",
    "bands = ['c_bwrgrads','c_bkr','c_hydro','c_athena','c_isi','c_cmip','c_badger','c_badger2','c_badger3','c_kumar','c_koster']\n",
    "\n",
    "fig, axs = plt.subplots(len(bands),1,figsize=(10,len(bands)*0.55))\n",
    "plt.subplots_adjust(wspace=0.0,hspace=0.0,left=0.02, right=0.8, bottom=0.02, top=0.925)\n",
    "fig.suptitle(\"Diverging...\",fontweight=\"bold\",fontsize=17)\n",
    "c_n = 16\n",
    "c_rot = -0.5\n",
    "for b in range(len(bands)):\n",
    "    axs[b].imshow(z,cmap=eval(bands[b]))\n",
    "    axs[b].text(zx*1.02,zy/2.0,bands[b],ha='left',va='center',fontsize=16)\n",
    "    axs[b].axis('off')\n",
    "fig.savefig(\"ggb_diverging.jpg\",dpi=72) "
   ]
  },
  {
   "cell_type": "code",
   "execution_count": 48,
   "metadata": {},
   "outputs": [
    {
     "data": {
      "image/png": "[encoded data removed]",
      "text/plain": [
       "<Figure size 720x138.24 with 3 Axes>"
      ]
     },
     "metadata": {
      "needs_background": "light"
     },
     "output_type": "display_data"
    }
   ],
   "source": [
    "# Make an image to display tailed examples\n",
    "zx = 256; zy = 14\n",
    "z = [np.linspace(0,1,zx)] * zy\n",
    "\n",
    "# Divergent\n",
    "bands = ['c_brubaker','c_halder','c_loco']\n",
    "\n",
    "fig, axs = plt.subplots(len(bands),1,figsize=(10,(len(bands)+1)*0.48))\n",
    "plt.subplots_adjust(wspace=0.0,hspace=0.0,left=0.02, right=0.8, bottom=0.02, top=0.82)\n",
    "fig.suptitle(\"Tailed...\",fontweight=\"bold\",fontsize=17)\n",
    "c_n = 16\n",
    "c_rot = -0.5\n",
    "for b in range(len(bands)):\n",
    "    axs[b].imshow(z,cmap=eval(bands[b]))\n",
    "    axs[b].text(zx*1.02,zy/2.0,bands[b],ha='left',va='center',fontsize=16)\n",
    "    axs[b].axis('off')\n",
    "fig.savefig(\"ggb_tailed.jpg\",dpi=72) "
   ]
  },
  {
   "cell_type": "code",
   "execution_count": 50,
   "metadata": {},
   "outputs": [
    {
     "data": {
      "image/png": "[encoded data removed]",
      "text/plain": [
       "<Figure size 720x138.24 with 3 Axes>"
      ]
     },
     "metadata": {
      "needs_background": "light"
     },
     "output_type": "display_data"
    }
   ],
   "source": [
    "# Make an image to display GrADS examples\n",
    "zx = 256; zy = 14\n",
    "z = [np.linspace(0,1,zx)] * zy\n",
    "\n",
    "# Divergent\n",
    "bands = ['c_grads','c_cgrads','c_bwrgrads']\n",
    "\n",
    "fig, axs = plt.subplots(len(bands),1,figsize=(10,(len(bands)+1)*0.48))\n",
    "plt.subplots_adjust(wspace=0.0,hspace=0.0,left=0.02, right=0.8, bottom=0.02, top=0.82)\n",
    "fig.suptitle(\"GrADS...\",fontweight=\"bold\",fontsize=17)\n",
    "c_n = 16\n",
    "c_rot = -0.5\n",
    "for b in range(len(bands)):\n",
    "    axs[b].imshow(z,cmap=eval(bands[b]))\n",
    "    axs[b].text(zx*1.02,zy/2.0,bands[b],ha='left',va='center',fontsize=16)\n",
    "    axs[b].axis('off')\n",
    "fig.savefig(\"ggb_grads.jpg\",dpi=72) "
   ]
  },
  {
   "cell_type": "code",
   "execution_count": null,
   "metadata": {},
   "outputs": [],
   "source": []
  }
 ],
 "metadata": {
  "kernelspec": {
   "display_name": "Python 3 (ipykernel)",
   "language": "python",
   "name": "python3"
  },
  "language_info": {
   "codemirror_mode": {
    "name": "ipython",
    "version": 3
   },
   "file_extension": ".py",
   "mimetype": "text/x-python",
   "name": "python",
   "nbconvert_exporter": "python",
   "pygments_lexer": "ipython3",
   "version": "3.8.12"
  }
 },
 "nbformat": 4,
 "nbformat_minor": 4
}
