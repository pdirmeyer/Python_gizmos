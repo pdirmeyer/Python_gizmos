{
 "cells": [
  {
   "cell_type": "markdown",
   "metadata": {},
   "source": [
    "\n",
    "# Sounding Plotter Examples\n",
    "\n",
    "Download and plot the most recent sounding data for a specified site using the `sounding_ploter` module.\n",
    "\n",
    "This example uses the server at the University of Wyoming as a source of current and historical sounding data\n"
   ]
  },
  {
   "cell_type": "code",
   "execution_count": 1,
   "metadata": {
    "collapsed": false,
    "jupyter": {
     "outputs_hidden": false
    }
   },
   "outputs": [],
   "source": [
    "from datetime import datetime\n",
    "from siphon.simplewebservice.wyoming import WyomingUpperAir\n",
    "\n",
    "import pandas as pd\n",
    "\n",
    "import sounding_plotter as sp  #<<< This is the module for the skew-T log-P plotting function\n",
    "\n",
    "import metpy.calc as mpcalc\n",
    "import metpy.constants as c\n",
    "from metpy.plots import add_metpy_logo, add_timestamp, SkewT\n",
    "from metpy.units import units\n"
   ]
  },
  {
   "cell_type": "markdown",
   "metadata": {},
   "source": [
    "This is where the command line script will actually enter, and handles parsing\n",
    "command line arguments and driving everything else.\n",
    "\n"
   ]
  },
  {
   "cell_type": "code",
   "execution_count": null,
   "metadata": {},
   "outputs": [],
   "source": [
    "s_site = 'IAD'; s_time = '2022102512' # Most recent\n",
    "s_site = 'IAD'; s_time = '2021070700' # Thunderstorms\n",
    "s_site = 'IAD'; s_time = '2021102600' # Heavy large-scale rain\n",
    "s_site = 'IAD'; s_time = '2020102212' # Morning fog, radiative inversion\n",
    "s_site = 'IAD'; s_time = '1983082100' # Record high temperature at Dulles 104˚F, 40˚C\n",
    "#s_site = 'VEF'; s_time = '2020073100' # Record heat in the Southwest\n",
    "#s_site = 'IAD'; s_time = '1984012212' # Record low temperature at Dulles -18˚F, -28˚C\n",
    "#s_site = 'IAD'; s_time = '2010020600' # Smowmageddon 2010\n",
    "#s_site = 'WMW'; s_time = '1998010600' # Quebec ice storm 1998\n",
    "#s_site = 'CHS'; s_time = '1989092200' # Hurricane Hugo\n",
    "#s_site = 'BMX'; s_time = '2011042800' # 2011 tornado super-outbreak - Alabama\n",
    "#s_site = 'FFC'; s_time = '2011042800' # 2011 tornado super-outbreak - Georgia\n",
    "#s_site = 'UIL'; s_time = '1998121512' # Extremely stable profile\n",
    "s_site = 'DVN'; s_time = '2012062900' # Derecho of 2012\n",
    "#s_site = 'IAD'; s_time = '2012063000' # Derecho of 2012\n",
    "\n",
    "# From the textbook \"A First Course in Atmospheric Thermodynamics\" by G. W. Petty:\n",
    "#s_site = 'AMA'; s_time = '2007042318' # Amarillo\n",
    "#s_site = 'VBG'; s_time = '2007113012' # Vandenberg\n",
    "#s_site = 'TOP'; s_time = '2008052600' # Topeka during 22-31 May 2008 tornado sequence\n",
    "#s_site = 'ILX'; s_time = '2008080500' # Derecho day\n",
    "\n",
    "#s_site = 'SHV'; s_time = '2021050412' # \n",
    "\n",
    "# Request the data and plot\n",
    "request_time = datetime.strptime(s_time, '%Y%m%d%H')\n",
    "try:\n",
    "    sounding_df = WyomingUpperAir.request_data(request_time, s_site)\n",
    "    skewt = sp.plot_skewt(sounding_df,output_pdf=False,output_display=True)\n",
    "except:\n",
    "    print(\"Error from WyomingUpperAir.request_data\")\n",
    "    \n"
   ]
  },
  {
   "cell_type": "code",
   "execution_count": null,
   "metadata": {},
   "outputs": [],
   "source": []
  }
 ],
 "metadata": {
  "kernelspec": {
   "display_name": "Python 3 (ipykernel)",
   "language": "python",
   "name": "python3"
  },
  "language_info": {
   "codemirror_mode": {
    "name": "ipython",
    "version": 3
   },
   "file_extension": ".py",
   "mimetype": "text/x-python",
   "name": "python",
   "nbconvert_exporter": "python",
   "pygments_lexer": "ipython3",
   "version": "3.8.12"
  }
 },
 "nbformat": 4,
 "nbformat_minor": 4
}
